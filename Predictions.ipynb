{
 "cells": [
  {
   "cell_type": "code",
   "execution_count": 6,
   "metadata": {
    "collapsed": true
   },
   "outputs": [],
   "source": [
    "library(dplyr)\n",
    "library(ggplot2)"
   ]
  },
  {
   "cell_type": "code",
   "execution_count": 8,
   "metadata": {
    "collapsed": true
   },
   "outputs": [],
   "source": [
    "setwd(\"C:/Users/Aeint Thet Ngon/Documents/Portfolio/Capital Bikeshare/2016\")"
   ]
  },
  {
   "cell_type": "code",
   "execution_count": 10,
   "metadata": {
    "collapsed": true
   },
   "outputs": [],
   "source": [
    "files=list.files(pattern=\"*.csv\")\n",
    "names=c(\"q1\", \"q2\", \"q3a\",\"q3b\", \"q4\")\n",
    "\n",
    "for (i in 1:length(files)){\n",
    "  assign(names[i], read.csv(files[i]))\n",
    "}\n",
    "\n",
    "colnames(q2)[9] <- \"Member.Type\""
   ]
  },
  {
   "cell_type": "code",
   "execution_count": 12,
   "metadata": {
    "collapsed": true
   },
   "outputs": [],
   "source": [
    "quarter=\"q1\"\n",
    "q1 <- cbind(q1, quarter)\n",
    "quarter=\"q2\"\n",
    "q2 <- cbind(q2, quarter)\n",
    "quarter=\"q3\"\n",
    "q3a <- cbind(q3a, quarter)\n",
    "quarter=\"q3\"\n",
    "q3b <- cbind(q3b, quarter)\n",
    "quarter=\"q4\"\n",
    "q4 <- cbind(q4, quarter)"
   ]
  },
  {
   "cell_type": "code",
   "execution_count": 14,
   "metadata": {},
   "outputs": [
    {
     "data": {
      "text/html": [
       "<table>\n",
       "<thead><tr><th scope=col>Duration..ms.</th><th scope=col>Start.date</th><th scope=col>End.date</th><th scope=col>Start.station.number</th><th scope=col>Start.station</th><th scope=col>End.station.number</th><th scope=col>End.station</th><th scope=col>Bike.number</th><th scope=col>Member.Type</th><th scope=col>quarter</th><th scope=col>startDT</th><th scope=col>endDT</th></tr></thead>\n",
       "<tbody>\n",
       "\t<tr><td>301295                                                                    </td><td>3/31/2016 23:59                                                           </td><td><span style=white-space:pre-wrap>4/1/2016 0:04  </span>                   </td><td>31280                                                                     </td><td><span style=white-space:pre-wrap>11th &amp; S St NW                </span></td><td>31506                                                                     </td><td>1st &amp; Rhode Island Ave NW                                             </td><td>W00022                                                                    </td><td>Registered                                                                </td><td>q1                                                                        </td><td>2016-03-31 23:59:00                                                       </td><td>2016-04-01 00:04:00                                                       </td></tr>\n",
       "\t<tr><td>557887                                                 </td><td>3/31/2016 23:59                                        </td><td><span style=white-space:pre-wrap>4/1/2016 0:08  </span></td><td>31275                                                  </td><td>New Hampshire Ave &amp; 24th St NW                     </td><td>31114                                                  </td><td>18th St &amp; Wyoming Ave NW                           </td><td>W01294                                                 </td><td>Registered                                             </td><td>q1                                                     </td><td>2016-03-31 23:59:00                                    </td><td>2016-04-01 00:08:00                                    </td></tr>\n",
       "\t<tr><td>555944                                                                    </td><td>3/31/2016 23:59                                                           </td><td><span style=white-space:pre-wrap>4/1/2016 0:08  </span>                   </td><td>31101                                                                     </td><td><span style=white-space:pre-wrap>14th &amp; V St NW                </span></td><td>31221                                                                     </td><td><span style=white-space:pre-wrap>18th &amp; M St NW           </span>     </td><td>W01416                                                                    </td><td>Registered                                                                </td><td>q1                                                                        </td><td>2016-03-31 23:59:00                                                       </td><td>2016-04-01 00:08:00                                                       </td></tr>\n",
       "\t<tr><td>766916                                                                    </td><td>3/31/2016 23:57                                                           </td><td><span style=white-space:pre-wrap>4/1/2016 0:09  </span>                   </td><td>31226                                                                     </td><td><span style=white-space:pre-wrap>34th St &amp; Wisconsin Ave NW    </span></td><td>31214                                                                     </td><td><span style=white-space:pre-wrap>17th &amp; Corcoran St NW    </span>     </td><td>W01090                                                                    </td><td>Registered                                                                </td><td>q1                                                                        </td><td>2016-03-31 23:57:00                                                       </td><td>2016-04-01 00:09:00                                                       </td></tr>\n",
       "\t<tr><td>139656                                                                    </td><td>3/31/2016 23:57                                                           </td><td>3/31/2016 23:59                                                           </td><td>31011                                                                     </td><td><span style=white-space:pre-wrap>23rd &amp; Crystal Dr             </span></td><td>31009                                                                     </td><td><span style=white-space:pre-wrap>27th &amp; Crystal Dr        </span>     </td><td>W21934                                                                    </td><td>Registered                                                                </td><td>q1                                                                        </td><td>2016-03-31 23:57:00                                                       </td><td>2016-03-31 23:59:00                                                       </td></tr>\n",
       "\t<tr><td>967713                                                                    </td><td>3/31/2016 23:57                                                           </td><td><span style=white-space:pre-wrap>4/1/2016 0:13  </span>                   </td><td>31266                                                                     </td><td><span style=white-space:pre-wrap>11th &amp; M St NW                </span></td><td>31600                                                                     </td><td><span style=white-space:pre-wrap>5th &amp; K St NW            </span>     </td><td>W20562                                                                    </td><td><span style=white-space:pre-wrap>Casual    </span>                        </td><td>q1                                                                        </td><td>2016-03-31 23:57:00                                                       </td><td>2016-04-01 00:13:00                                                       </td></tr>\n",
       "</tbody>\n",
       "</table>\n"
      ],
      "text/latex": [
       "\\begin{tabular}{r|llllllllllll}\n",
       " Duration..ms. & Start.date & End.date & Start.station.number & Start.station & End.station.number & End.station & Bike.number & Member.Type & quarter & startDT & endDT\\\\\n",
       "\\hline\n",
       "\t 301295                           & 3/31/2016 23:59                  & 4/1/2016 0:04                    & 31280                            & 11th \\& S St NW                 & 31506                            & 1st \\& Rhode Island Ave NW      & W00022                           & Registered                       & q1                               & 2016-03-31 23:59:00              & 2016-04-01 00:04:00             \\\\\n",
       "\t 557887                           & 3/31/2016 23:59                  & 4/1/2016 0:08                    & 31275                            & New Hampshire Ave \\& 24th St NW & 31114                            & 18th St \\& Wyoming Ave NW       & W01294                           & Registered                       & q1                               & 2016-03-31 23:59:00              & 2016-04-01 00:08:00             \\\\\n",
       "\t 555944                           & 3/31/2016 23:59                  & 4/1/2016 0:08                    & 31101                            & 14th \\& V St NW                 & 31221                            & 18th \\& M St NW                 & W01416                           & Registered                       & q1                               & 2016-03-31 23:59:00              & 2016-04-01 00:08:00             \\\\\n",
       "\t 766916                           & 3/31/2016 23:57                  & 4/1/2016 0:09                    & 31226                            & 34th St \\& Wisconsin Ave NW     & 31214                            & 17th \\& Corcoran St NW          & W01090                           & Registered                       & q1                               & 2016-03-31 23:57:00              & 2016-04-01 00:09:00             \\\\\n",
       "\t 139656                           & 3/31/2016 23:57                  & 3/31/2016 23:59                  & 31011                            & 23rd \\& Crystal Dr              & 31009                            & 27th \\& Crystal Dr              & W21934                           & Registered                       & q1                               & 2016-03-31 23:57:00              & 2016-03-31 23:59:00             \\\\\n",
       "\t 967713                           & 3/31/2016 23:57                  & 4/1/2016 0:13                    & 31266                            & 11th \\& M St NW                 & 31600                            & 5th \\& K St NW                  & W20562                           & Casual                           & q1                               & 2016-03-31 23:57:00              & 2016-04-01 00:13:00             \\\\\n",
       "\\end{tabular}\n"
      ],
      "text/markdown": [
       "\n",
       "Duration..ms. | Start.date | End.date | Start.station.number | Start.station | End.station.number | End.station | Bike.number | Member.Type | quarter | startDT | endDT | \n",
       "|---|---|---|---|---|---|\n",
       "| 301295                         | 3/31/2016 23:59                | 4/1/2016 0:04                  | 31280                          | 11th & S St NW                 | 31506                          | 1st & Rhode Island Ave NW      | W00022                         | Registered                     | q1                             | 2016-03-31 23:59:00            | 2016-04-01 00:04:00            | \n",
       "| 557887                         | 3/31/2016 23:59                | 4/1/2016 0:08                  | 31275                          | New Hampshire Ave & 24th St NW | 31114                          | 18th St & Wyoming Ave NW       | W01294                         | Registered                     | q1                             | 2016-03-31 23:59:00            | 2016-04-01 00:08:00            | \n",
       "| 555944                         | 3/31/2016 23:59                | 4/1/2016 0:08                  | 31101                          | 14th & V St NW                 | 31221                          | 18th & M St NW                 | W01416                         | Registered                     | q1                             | 2016-03-31 23:59:00            | 2016-04-01 00:08:00            | \n",
       "| 766916                         | 3/31/2016 23:57                | 4/1/2016 0:09                  | 31226                          | 34th St & Wisconsin Ave NW     | 31214                          | 17th & Corcoran St NW          | W01090                         | Registered                     | q1                             | 2016-03-31 23:57:00            | 2016-04-01 00:09:00            | \n",
       "| 139656                         | 3/31/2016 23:57                | 3/31/2016 23:59                | 31011                          | 23rd & Crystal Dr              | 31009                          | 27th & Crystal Dr              | W21934                         | Registered                     | q1                             | 2016-03-31 23:57:00            | 2016-03-31 23:59:00            | \n",
       "| 967713                         | 3/31/2016 23:57                | 4/1/2016 0:13                  | 31266                          | 11th & M St NW                 | 31600                          | 5th & K St NW                  | W20562                         | Casual                         | q1                             | 2016-03-31 23:57:00            | 2016-04-01 00:13:00            | \n",
       "\n",
       "\n"
      ],
      "text/plain": [
       "  Duration..ms. Start.date      End.date        Start.station.number\n",
       "1 301295        3/31/2016 23:59 4/1/2016 0:04   31280               \n",
       "2 557887        3/31/2016 23:59 4/1/2016 0:08   31275               \n",
       "3 555944        3/31/2016 23:59 4/1/2016 0:08   31101               \n",
       "4 766916        3/31/2016 23:57 4/1/2016 0:09   31226               \n",
       "5 139656        3/31/2016 23:57 3/31/2016 23:59 31011               \n",
       "6 967713        3/31/2016 23:57 4/1/2016 0:13   31266               \n",
       "  Start.station                  End.station.number End.station              \n",
       "1 11th & S St NW                 31506              1st & Rhode Island Ave NW\n",
       "2 New Hampshire Ave & 24th St NW 31114              18th St & Wyoming Ave NW \n",
       "3 14th & V St NW                 31221              18th & M St NW           \n",
       "4 34th St & Wisconsin Ave NW     31214              17th & Corcoran St NW    \n",
       "5 23rd & Crystal Dr              31009              27th & Crystal Dr        \n",
       "6 11th & M St NW                 31600              5th & K St NW            \n",
       "  Bike.number Member.Type quarter startDT             endDT              \n",
       "1 W00022      Registered  q1      2016-03-31 23:59:00 2016-04-01 00:04:00\n",
       "2 W01294      Registered  q1      2016-03-31 23:59:00 2016-04-01 00:08:00\n",
       "3 W01416      Registered  q1      2016-03-31 23:59:00 2016-04-01 00:08:00\n",
       "4 W01090      Registered  q1      2016-03-31 23:57:00 2016-04-01 00:09:00\n",
       "5 W21934      Registered  q1      2016-03-31 23:57:00 2016-03-31 23:59:00\n",
       "6 W20562      Casual      q1      2016-03-31 23:57:00 2016-04-01 00:13:00"
      ]
     },
     "metadata": {},
     "output_type": "display_data"
    }
   ],
   "source": [
    "trips16 <- rbind(q1, q2, q3a, q3b, q4)\n",
    "\n",
    "trips16 <- trips16 %>%\n",
    "  mutate(startDT=as.POSIXct(strptime(trips16$Start.date, \"%m/%d/%Y %H:%M\")),\n",
    "         endDT=as.POSIXct(strptime(trips16$End.date, \"%m/%d/%Y %H:%M\")))\n",
    "\n",
    "rm(q1, q2, q3a, q3b, q4)\n",
    "\n",
    "head(trips16)"
   ]
  },
  {
   "cell_type": "code",
   "execution_count": 16,
   "metadata": {
    "collapsed": true
   },
   "outputs": [],
   "source": [
    "setwd(\"C:/Users/Aeint Thet Ngon/Documents/Portfolio/Capital Bikeshare/2015\")"
   ]
  },
  {
   "cell_type": "code",
   "execution_count": 17,
   "metadata": {
    "collapsed": true
   },
   "outputs": [],
   "source": [
    "files=list.files(pattern=\"*.csv\")\n",
    "names=c(\"q1\", \"q2\", \"q3\", \"q4\")\n",
    "\n",
    "for (i in 1:length(files)){\n",
    "  assign(names[i], read.csv(files[i]))\n",
    "}\n",
    "quarter=\"q1\"\n",
    "q1 <- cbind(q1, quarter)\n",
    "quarter=\"q2\"\n",
    "q2 <- cbind(q2, quarter)\n",
    "quarter=\"q3\"\n",
    "q3 <- cbind(q3, quarter)\n",
    "quarter=\"q4\"\n",
    "q4 <- cbind(q4, quarter)\n",
    "#colnames(q2)[9] <- \"Member.Type\""
   ]
  },
  {
   "cell_type": "code",
   "execution_count": 18,
   "metadata": {
    "collapsed": true
   },
   "outputs": [],
   "source": [
    "s_temp <- data.frame(Start.station=q3$Start.station, Start.station.number=q3$Start.station.number)\n",
    "e_temp <- data.frame(End.station=q3$End.station,End.station.number=q3$End.station.number)"
   ]
  },
  {
   "cell_type": "code",
   "execution_count": 19,
   "metadata": {},
   "outputs": [
    {
     "data": {
      "text/html": [
       "<table>\n",
       "<thead><tr><th></th><th scope=col>End.station</th><th scope=col>End.station.number</th></tr></thead>\n",
       "<tbody>\n",
       "\t<tr><th scope=row>1</th><td><span style=white-space:pre-wrap>15th &amp; Euclid St  NW        </span></td><td>31117                                                                   </td></tr>\n",
       "\t<tr><th scope=row>2</th><td><span style=white-space:pre-wrap>Jefferson Dr &amp; 14th St SW   </span></td><td>31247                                                                   </td></tr>\n",
       "\t<tr><th scope=row>4</th><td><span style=white-space:pre-wrap>Park Rd &amp; Holmead Pl NW     </span></td><td>31602                                                                   </td></tr>\n",
       "\t<tr><th scope=row>5</th><td>3rd St &amp; Pennsylvania Ave SE</td><td>31269                           </td></tr>\n",
       "\t<tr><th scope=row>6</th><td><span style=white-space:pre-wrap>M St &amp; New Jersey Ave SE    </span></td><td>31208                                                                   </td></tr>\n",
       "\t<tr><th scope=row>7</th><td><span style=white-space:pre-wrap>13th St &amp; New York Ave NW   </span></td><td>31227                                                                   </td></tr>\n",
       "</tbody>\n",
       "</table>\n"
      ],
      "text/latex": [
       "\\begin{tabular}{r|ll}\n",
       "  & End.station & End.station.number\\\\\n",
       "\\hline\n",
       "\t1 & 15th \\& Euclid St  NW         & 31117                         \\\\\n",
       "\t2 & Jefferson Dr \\& 14th St SW    & 31247                         \\\\\n",
       "\t4 & Park Rd \\& Holmead Pl NW      & 31602                         \\\\\n",
       "\t5 & 3rd St \\& Pennsylvania Ave SE & 31269                         \\\\\n",
       "\t6 & M St \\& New Jersey Ave SE     & 31208                         \\\\\n",
       "\t7 & 13th St \\& New York Ave NW    & 31227                         \\\\\n",
       "\\end{tabular}\n"
      ],
      "text/markdown": [
       "\n",
       "| <!--/--> | End.station | End.station.number | \n",
       "|---|---|---|---|---|---|\n",
       "| 1 | 15th & Euclid St  NW         | 31117                        | \n",
       "| 2 | Jefferson Dr & 14th St SW    | 31247                        | \n",
       "| 4 | Park Rd & Holmead Pl NW      | 31602                        | \n",
       "| 5 | 3rd St & Pennsylvania Ave SE | 31269                        | \n",
       "| 6 | M St & New Jersey Ave SE     | 31208                        | \n",
       "| 7 | 13th St & New York Ave NW    | 31227                        | \n",
       "\n",
       "\n"
      ],
      "text/plain": [
       "  End.station                  End.station.number\n",
       "1 15th & Euclid St  NW         31117             \n",
       "2 Jefferson Dr & 14th St SW    31247             \n",
       "4 Park Rd & Holmead Pl NW      31602             \n",
       "5 3rd St & Pennsylvania Ave SE 31269             \n",
       "6 M St & New Jersey Ave SE     31208             \n",
       "7 13th St & New York Ave NW    31227             "
      ]
     },
     "metadata": {},
     "output_type": "display_data"
    }
   ],
   "source": [
    "s_temp <- unique(s_temp)\n",
    "e_temp <- unique(e_temp)\n",
    "head(e_temp)"
   ]
  },
  {
   "cell_type": "code",
   "execution_count": 20,
   "metadata": {},
   "outputs": [
    {
     "name": "stderr",
     "output_type": "stream",
     "text": [
      "Warning message in left_join_impl(x, y, by$x, by$y, suffix$x, suffix$y):\n",
      "\"joining factors with different levels, coercing to character vector\"Warning message in left_join_impl(x, y, by$x, by$y, suffix$x, suffix$y):\n",
      "\"joining factors with different levels, coercing to character vector\""
     ]
    },
    {
     "data": {
      "text/html": [
       "<table>\n",
       "<thead><tr><th scope=col>Total.duration..ms.</th><th scope=col>Start.date</th><th scope=col>Start.station</th><th scope=col>End.date</th><th scope=col>End.station</th><th scope=col>Bike.number</th><th scope=col>Subscription.Type</th><th scope=col>quarter</th><th scope=col>Start.station.number</th><th scope=col>End.station.number</th></tr></thead>\n",
       "<tbody>\n",
       "\t<tr><td>2394764                                                                  </td><td>1/1/2015 0:02                                                            </td><td>Constitution Ave &amp; 2nd St NW/DOL                                     </td><td>1/1/2015 0:42                                                            </td><td><span style=white-space:pre-wrap>15th &amp; K St NW               </span></td><td>W00612                                                                   </td><td><span style=white-space:pre-wrap>Casual    </span>                       </td><td>q1                                                                       </td><td>31271                                                                    </td><td>31254                                                                    </td></tr>\n",
       "\t<tr><td>2389161                                                                  </td><td>1/1/2015 0:02                                                            </td><td>Constitution Ave &amp; 2nd St NW/DOL                                     </td><td>1/1/2015 0:42                                                            </td><td><span style=white-space:pre-wrap>15th &amp; K St NW               </span></td><td>W01140                                                                   </td><td><span style=white-space:pre-wrap>Casual    </span>                       </td><td>q1                                                                       </td><td>31271                                                                    </td><td>31254                                                                    </td></tr>\n",
       "\t<tr><td> 468047                                                                     </td><td>1/1/2015 0:04                                                               </td><td><span style=white-space:pre-wrap>20th &amp; E St NW                  </span></td><td>1/1/2015 0:12                                                               </td><td>20th &amp; O St NW / Dupont South                                           </td><td>W01226                                                                      </td><td>Registered                                                                  </td><td>q1                                                                          </td><td>31204                                                                       </td><td>31234                                                                       </td></tr>\n",
       "\t<tr><td> 348068                                                                     </td><td>1/1/2015 0:07                                                               </td><td><span style=white-space:pre-wrap>Park Rd &amp; Holmead Pl NW         </span></td><td>1/1/2015 0:13                                                               </td><td><span style=white-space:pre-wrap>15th &amp; Euclid St  NW         </span>   </td><td>W20216                                                                      </td><td>Registered                                                                  </td><td>q1                                                                          </td><td>31602                                                                       </td><td>31117                                                                       </td></tr>\n",
       "\t<tr><td> 980844                                                                     </td><td>1/1/2015 0:09                                                               </td><td><span style=white-space:pre-wrap>Jefferson Dr &amp; 14th St SW       </span></td><td>1/1/2015 0:25                                                               </td><td><span style=white-space:pre-wrap>Thomas Circle                </span>       </td><td>W21005                                                                      </td><td><span style=white-space:pre-wrap>Casual    </span>                          </td><td>q1                                                                          </td><td>31247                                                                       </td><td>31241                                                                       </td></tr>\n",
       "\t<tr><td> 932411                                                                     </td><td>1/1/2015 0:10                                                               </td><td><span style=white-space:pre-wrap>Jefferson Dr &amp; 14th St SW       </span></td><td>1/1/2015 0:26                                                               </td><td><span style=white-space:pre-wrap>Thomas Circle                </span>       </td><td>W01126                                                                      </td><td><span style=white-space:pre-wrap>Casual    </span>                          </td><td>q1                                                                          </td><td>31247                                                                       </td><td>31241                                                                       </td></tr>\n",
       "</tbody>\n",
       "</table>\n"
      ],
      "text/latex": [
       "\\begin{tabular}{r|llllllllll}\n",
       " Total.duration..ms. & Start.date & Start.station & End.date & End.station & Bike.number & Subscription.Type & quarter & Start.station.number & End.station.number\\\\\n",
       "\\hline\n",
       "\t 2394764                            & 1/1/2015 0:02                      & Constitution Ave \\& 2nd St NW/DOL & 1/1/2015 0:42                      & 15th \\& K St NW                   & W00612                             & Casual                             & q1                                 & 31271                              & 31254                             \\\\\n",
       "\t 2389161                            & 1/1/2015 0:02                      & Constitution Ave \\& 2nd St NW/DOL & 1/1/2015 0:42                      & 15th \\& K St NW                   & W01140                             & Casual                             & q1                                 & 31271                              & 31254                             \\\\\n",
       "\t  468047                            & 1/1/2015 0:04                      & 20th \\& E St NW                   & 1/1/2015 0:12                      & 20th \\& O St NW / Dupont South    & W01226                             & Registered                         & q1                                 & 31204                              & 31234                             \\\\\n",
       "\t  348068                            & 1/1/2015 0:07                      & Park Rd \\& Holmead Pl NW          & 1/1/2015 0:13                      & 15th \\& Euclid St  NW             & W20216                             & Registered                         & q1                                 & 31602                              & 31117                             \\\\\n",
       "\t  980844                            & 1/1/2015 0:09                      & Jefferson Dr \\& 14th St SW        & 1/1/2015 0:25                      & Thomas Circle                      & W21005                             & Casual                             & q1                                 & 31247                              & 31241                             \\\\\n",
       "\t  932411                            & 1/1/2015 0:10                      & Jefferson Dr \\& 14th St SW        & 1/1/2015 0:26                      & Thomas Circle                      & W01126                             & Casual                             & q1                                 & 31247                              & 31241                             \\\\\n",
       "\\end{tabular}\n"
      ],
      "text/markdown": [
       "\n",
       "Total.duration..ms. | Start.date | Start.station | End.date | End.station | Bike.number | Subscription.Type | quarter | Start.station.number | End.station.number | \n",
       "|---|---|---|---|---|---|\n",
       "| 2394764                          | 1/1/2015 0:02                    | Constitution Ave & 2nd St NW/DOL | 1/1/2015 0:42                    | 15th & K St NW                   | W00612                           | Casual                           | q1                               | 31271                            | 31254                            | \n",
       "| 2389161                          | 1/1/2015 0:02                    | Constitution Ave & 2nd St NW/DOL | 1/1/2015 0:42                    | 15th & K St NW                   | W01140                           | Casual                           | q1                               | 31271                            | 31254                            | \n",
       "|  468047                          | 1/1/2015 0:04                    | 20th & E St NW                   | 1/1/2015 0:12                    | 20th & O St NW / Dupont South    | W01226                           | Registered                       | q1                               | 31204                            | 31234                            | \n",
       "|  348068                          | 1/1/2015 0:07                    | Park Rd & Holmead Pl NW          | 1/1/2015 0:13                    | 15th & Euclid St  NW             | W20216                           | Registered                       | q1                               | 31602                            | 31117                            | \n",
       "|  980844                          | 1/1/2015 0:09                    | Jefferson Dr & 14th St SW        | 1/1/2015 0:25                    | Thomas Circle                    | W21005                           | Casual                           | q1                               | 31247                            | 31241                            | \n",
       "|  932411                          | 1/1/2015 0:10                    | Jefferson Dr & 14th St SW        | 1/1/2015 0:26                    | Thomas Circle                    | W01126                           | Casual                           | q1                               | 31247                            | 31241                            | \n",
       "\n",
       "\n"
      ],
      "text/plain": [
       "  Total.duration..ms. Start.date    Start.station                   \n",
       "1 2394764             1/1/2015 0:02 Constitution Ave & 2nd St NW/DOL\n",
       "2 2389161             1/1/2015 0:02 Constitution Ave & 2nd St NW/DOL\n",
       "3  468047             1/1/2015 0:04 20th & E St NW                  \n",
       "4  348068             1/1/2015 0:07 Park Rd & Holmead Pl NW         \n",
       "5  980844             1/1/2015 0:09 Jefferson Dr & 14th St SW       \n",
       "6  932411             1/1/2015 0:10 Jefferson Dr & 14th St SW       \n",
       "  End.date      End.station                   Bike.number Subscription.Type\n",
       "1 1/1/2015 0:42 15th & K St NW                W00612      Casual           \n",
       "2 1/1/2015 0:42 15th & K St NW                W01140      Casual           \n",
       "3 1/1/2015 0:12 20th & O St NW / Dupont South W01226      Registered       \n",
       "4 1/1/2015 0:13 15th & Euclid St  NW          W20216      Registered       \n",
       "5 1/1/2015 0:25 Thomas Circle                 W21005      Casual           \n",
       "6 1/1/2015 0:26 Thomas Circle                 W01126      Casual           \n",
       "  quarter Start.station.number End.station.number\n",
       "1 q1      31271                31254             \n",
       "2 q1      31271                31254             \n",
       "3 q1      31204                31234             \n",
       "4 q1      31602                31117             \n",
       "5 q1      31247                31241             \n",
       "6 q1      31247                31241             "
      ]
     },
     "metadata": {},
     "output_type": "display_data"
    }
   ],
   "source": [
    "q1 <- left_join(q1, s_temp, by=\"Start.station\")\n",
    "q1 <- left_join(q1, e_temp, by=\"End.station\")\n",
    "\n",
    "head(q1)"
   ]
  },
  {
   "cell_type": "code",
   "execution_count": 21,
   "metadata": {},
   "outputs": [
    {
     "name": "stderr",
     "output_type": "stream",
     "text": [
      "Warning message in left_join_impl(x, y, by$x, by$y, suffix$x, suffix$y):\n",
      "\"joining factors with different levels, coercing to character vector\"Warning message in left_join_impl(x, y, by$x, by$y, suffix$x, suffix$y):\n",
      "\"joining factors with different levels, coercing to character vector\""
     ]
    },
    {
     "data": {
      "text/html": [
       "<table>\n",
       "<thead><tr><th scope=col>Duration..ms.</th><th scope=col>Start.date</th><th scope=col>Start.station</th><th scope=col>End.date</th><th scope=col>End.station</th><th scope=col>Bike.number</th><th scope=col>Subscription.type</th><th scope=col>quarter</th><th scope=col>Start.station.number</th><th scope=col>End.station.number</th></tr></thead>\n",
       "<tbody>\n",
       "\t<tr><td>1761773                              </td><td>6/30/2015 23:58                      </td><td>17th St &amp; Massachusetts Ave NW   </td><td>7/1/2015 0:27                        </td><td>USDA / 12th &amp; Independence Ave SW</td><td>W21320                               </td><td>Casual                               </td><td>q2                                   </td><td>31267                                </td><td>31217                                </td></tr>\n",
       "\t<tr><td> 193188                                                                      </td><td>6/30/2015 23:58                                                              </td><td><span style=white-space:pre-wrap>5th &amp; K St NW                 </span>   </td><td>7/1/2015 0:01                                                                </td><td><span style=white-space:pre-wrap>3rd &amp; H St NW                    </span></td><td>W20832                                                                       </td><td>Member                                                                       </td><td>q2                                                                           </td><td>31600                                                                        </td><td>31604                                                                        </td></tr>\n",
       "\t<tr><td>2895041                                                                      </td><td>6/30/2015 23:57                                                              </td><td><span style=white-space:pre-wrap>Jefferson Dr &amp; 14th St SW     </span>   </td><td>7/1/2015 0:45                                                                </td><td><span style=white-space:pre-wrap>Jefferson Dr &amp; 14th St SW        </span></td><td>W21519                                                                       </td><td>Casual                                                                       </td><td>q2                                                                           </td><td>31247                                                                        </td><td>31247                                                                        </td></tr>\n",
       "\t<tr><td>2845488                                                                      </td><td>6/30/2015 23:57                                                              </td><td><span style=white-space:pre-wrap>Jefferson Dr &amp; 14th St SW     </span>   </td><td>7/1/2015 0:44                                                                </td><td><span style=white-space:pre-wrap>Jefferson Dr &amp; 14th St SW        </span></td><td>W00335                                                                       </td><td>Casual                                                                       </td><td>q2                                                                           </td><td>31247                                                                        </td><td>31247                                                                        </td></tr>\n",
       "\t<tr><td>1130426                                                                      </td><td>6/30/2015 23:57                                                              </td><td><span style=white-space:pre-wrap>Park Rd &amp; Holmead Pl NW       </span>   </td><td>7/1/2015 0:16                                                                </td><td><span style=white-space:pre-wrap>1st &amp; Rhode Island Ave NW        </span></td><td>W20576                                                                       </td><td>Member                                                                       </td><td>q2                                                                           </td><td>31602                                                                        </td><td>31506                                                                        </td></tr>\n",
       "\t<tr><td> 684472                                                                      </td><td>6/30/2015 23:57                                                              </td><td><span style=white-space:pre-wrap>11th &amp; S St NW                </span>   </td><td>7/1/2015 0:08                                                                </td><td><span style=white-space:pre-wrap>1st &amp; M St NE                    </span></td><td>W21338                                                                       </td><td>Member                                                                       </td><td>q2                                                                           </td><td>31280                                                                        </td><td>31603                                                                        </td></tr>\n",
       "</tbody>\n",
       "</table>\n"
      ],
      "text/latex": [
       "\\begin{tabular}{r|llllllllll}\n",
       " Duration..ms. & Start.date & Start.station & End.date & End.station & Bike.number & Subscription.type & quarter & Start.station.number & End.station.number\\\\\n",
       "\\hline\n",
       "\t 1761773                             & 6/30/2015 23:58                     & 17th St \\& Massachusetts Ave NW    & 7/1/2015 0:27                       & USDA / 12th \\& Independence Ave SW & W21320                              & Casual                              & q2                                  & 31267                               & 31217                              \\\\\n",
       "\t  193188                             & 6/30/2015 23:58                     & 5th \\& K St NW                     & 7/1/2015 0:01                       & 3rd \\& H St NW                     & W20832                              & Member                              & q2                                  & 31600                               & 31604                              \\\\\n",
       "\t 2895041                             & 6/30/2015 23:57                     & Jefferson Dr \\& 14th St SW         & 7/1/2015 0:45                       & Jefferson Dr \\& 14th St SW         & W21519                              & Casual                              & q2                                  & 31247                               & 31247                              \\\\\n",
       "\t 2845488                             & 6/30/2015 23:57                     & Jefferson Dr \\& 14th St SW         & 7/1/2015 0:44                       & Jefferson Dr \\& 14th St SW         & W00335                              & Casual                              & q2                                  & 31247                               & 31247                              \\\\\n",
       "\t 1130426                             & 6/30/2015 23:57                     & Park Rd \\& Holmead Pl NW           & 7/1/2015 0:16                       & 1st \\& Rhode Island Ave NW         & W20576                              & Member                              & q2                                  & 31602                               & 31506                              \\\\\n",
       "\t  684472                             & 6/30/2015 23:57                     & 11th \\& S St NW                    & 7/1/2015 0:08                       & 1st \\& M St NE                     & W21338                              & Member                              & q2                                  & 31280                               & 31603                              \\\\\n",
       "\\end{tabular}\n"
      ],
      "text/markdown": [
       "\n",
       "Duration..ms. | Start.date | Start.station | End.date | End.station | Bike.number | Subscription.type | quarter | Start.station.number | End.station.number | \n",
       "|---|---|---|---|---|---|\n",
       "| 1761773                           | 6/30/2015 23:58                   | 17th St & Massachusetts Ave NW    | 7/1/2015 0:27                     | USDA / 12th & Independence Ave SW | W21320                            | Casual                            | q2                                | 31267                             | 31217                             | \n",
       "|  193188                           | 6/30/2015 23:58                   | 5th & K St NW                     | 7/1/2015 0:01                     | 3rd & H St NW                     | W20832                            | Member                            | q2                                | 31600                             | 31604                             | \n",
       "| 2895041                           | 6/30/2015 23:57                   | Jefferson Dr & 14th St SW         | 7/1/2015 0:45                     | Jefferson Dr & 14th St SW         | W21519                            | Casual                            | q2                                | 31247                             | 31247                             | \n",
       "| 2845488                           | 6/30/2015 23:57                   | Jefferson Dr & 14th St SW         | 7/1/2015 0:44                     | Jefferson Dr & 14th St SW         | W00335                            | Casual                            | q2                                | 31247                             | 31247                             | \n",
       "| 1130426                           | 6/30/2015 23:57                   | Park Rd & Holmead Pl NW           | 7/1/2015 0:16                     | 1st & Rhode Island Ave NW         | W20576                            | Member                            | q2                                | 31602                             | 31506                             | \n",
       "|  684472                           | 6/30/2015 23:57                   | 11th & S St NW                    | 7/1/2015 0:08                     | 1st & M St NE                     | W21338                            | Member                            | q2                                | 31280                             | 31603                             | \n",
       "\n",
       "\n"
      ],
      "text/plain": [
       "  Duration..ms. Start.date      Start.station                  End.date     \n",
       "1 1761773       6/30/2015 23:58 17th St & Massachusetts Ave NW 7/1/2015 0:27\n",
       "2  193188       6/30/2015 23:58 5th & K St NW                  7/1/2015 0:01\n",
       "3 2895041       6/30/2015 23:57 Jefferson Dr & 14th St SW      7/1/2015 0:45\n",
       "4 2845488       6/30/2015 23:57 Jefferson Dr & 14th St SW      7/1/2015 0:44\n",
       "5 1130426       6/30/2015 23:57 Park Rd & Holmead Pl NW        7/1/2015 0:16\n",
       "6  684472       6/30/2015 23:57 11th & S St NW                 7/1/2015 0:08\n",
       "  End.station                       Bike.number Subscription.type quarter\n",
       "1 USDA / 12th & Independence Ave SW W21320      Casual            q2     \n",
       "2 3rd & H St NW                     W20832      Member            q2     \n",
       "3 Jefferson Dr & 14th St SW         W21519      Casual            q2     \n",
       "4 Jefferson Dr & 14th St SW         W00335      Casual            q2     \n",
       "5 1st & Rhode Island Ave NW         W20576      Member            q2     \n",
       "6 1st & M St NE                     W21338      Member            q2     \n",
       "  Start.station.number End.station.number\n",
       "1 31267                31217             \n",
       "2 31600                31604             \n",
       "3 31247                31247             \n",
       "4 31247                31247             \n",
       "5 31602                31506             \n",
       "6 31280                31603             "
      ]
     },
     "metadata": {},
     "output_type": "display_data"
    }
   ],
   "source": [
    "q2 <- left_join(q2, s_temp, by=\"Start.station\")\n",
    "q2 <- left_join(q2, e_temp, by=\"End.station\")\n",
    "\n",
    "head(q2)"
   ]
  },
  {
   "cell_type": "code",
   "execution_count": 22,
   "metadata": {
    "collapsed": true
   },
   "outputs": [],
   "source": [
    "colnames(q3)[8] <- \"Bike.number\"\n",
    "colnames(q4)[8] <- 'Bike.number'\n",
    "colnames(q1)[1] <- \"Duration..ms.\"\n",
    "colnames(q1)[7] <- \"Member.type\"\n",
    "colnames(q2)[7] <- \"Member.type\"\n",
    "trips15 <- rbind(q1, q2, q3, q4)"
   ]
  },
  {
   "cell_type": "code",
   "execution_count": 23,
   "metadata": {},
   "outputs": [
    {
     "data": {
      "text/html": [
       "<table>\n",
       "<thead><tr><th scope=col>Duration..ms.</th><th scope=col>Start.date</th><th scope=col>Start.station</th><th scope=col>End.date</th><th scope=col>End.station</th><th scope=col>Bike.number</th><th scope=col>Member.type</th><th scope=col>quarter</th><th scope=col>Start.station.number</th><th scope=col>End.station.number</th><th scope=col>startDT</th><th scope=col>endDT</th></tr></thead>\n",
       "<tbody>\n",
       "\t<tr><td>2394764                                                                  </td><td>1/1/2015 0:02                                                            </td><td>Constitution Ave &amp; 2nd St NW/DOL                                     </td><td>1/1/2015 0:42                                                            </td><td><span style=white-space:pre-wrap>15th &amp; K St NW               </span></td><td>W00612                                                                   </td><td><span style=white-space:pre-wrap>Casual    </span>                       </td><td>q1                                                                       </td><td>31271                                                                    </td><td>31254                                                                    </td><td>2015-01-01 00:02:00                                                      </td><td>2015-01-01 00:42:00                                                      </td></tr>\n",
       "\t<tr><td>2389161                                                                  </td><td>1/1/2015 0:02                                                            </td><td>Constitution Ave &amp; 2nd St NW/DOL                                     </td><td>1/1/2015 0:42                                                            </td><td><span style=white-space:pre-wrap>15th &amp; K St NW               </span></td><td>W01140                                                                   </td><td><span style=white-space:pre-wrap>Casual    </span>                       </td><td>q1                                                                       </td><td>31271                                                                    </td><td>31254                                                                    </td><td>2015-01-01 00:02:00                                                      </td><td>2015-01-01 00:42:00                                                      </td></tr>\n",
       "\t<tr><td> 468047                                                                     </td><td>1/1/2015 0:04                                                               </td><td><span style=white-space:pre-wrap>20th &amp; E St NW                  </span></td><td>1/1/2015 0:12                                                               </td><td>20th &amp; O St NW / Dupont South                                           </td><td>W01226                                                                      </td><td>Registered                                                                  </td><td>q1                                                                          </td><td>31204                                                                       </td><td>31234                                                                       </td><td>2015-01-01 00:04:00                                                         </td><td>2015-01-01 00:12:00                                                         </td></tr>\n",
       "\t<tr><td> 348068                                                                     </td><td>1/1/2015 0:07                                                               </td><td><span style=white-space:pre-wrap>Park Rd &amp; Holmead Pl NW         </span></td><td>1/1/2015 0:13                                                               </td><td><span style=white-space:pre-wrap>15th &amp; Euclid St  NW         </span>   </td><td>W20216                                                                      </td><td>Registered                                                                  </td><td>q1                                                                          </td><td>31602                                                                       </td><td>31117                                                                       </td><td>2015-01-01 00:07:00                                                         </td><td>2015-01-01 00:13:00                                                         </td></tr>\n",
       "\t<tr><td> 980844                                                                     </td><td>1/1/2015 0:09                                                               </td><td><span style=white-space:pre-wrap>Jefferson Dr &amp; 14th St SW       </span></td><td>1/1/2015 0:25                                                               </td><td><span style=white-space:pre-wrap>Thomas Circle                </span>       </td><td>W21005                                                                      </td><td><span style=white-space:pre-wrap>Casual    </span>                          </td><td>q1                                                                          </td><td>31247                                                                       </td><td>31241                                                                       </td><td>2015-01-01 00:09:00                                                         </td><td>2015-01-01 00:25:00                                                         </td></tr>\n",
       "\t<tr><td> 932411                                                                     </td><td>1/1/2015 0:10                                                               </td><td><span style=white-space:pre-wrap>Jefferson Dr &amp; 14th St SW       </span></td><td>1/1/2015 0:26                                                               </td><td><span style=white-space:pre-wrap>Thomas Circle                </span>       </td><td>W01126                                                                      </td><td><span style=white-space:pre-wrap>Casual    </span>                          </td><td>q1                                                                          </td><td>31247                                                                       </td><td>31241                                                                       </td><td>2015-01-01 00:10:00                                                         </td><td>2015-01-01 00:26:00                                                         </td></tr>\n",
       "</tbody>\n",
       "</table>\n"
      ],
      "text/latex": [
       "\\begin{tabular}{r|llllllllllll}\n",
       " Duration..ms. & Start.date & Start.station & End.date & End.station & Bike.number & Member.type & quarter & Start.station.number & End.station.number & startDT & endDT\\\\\n",
       "\\hline\n",
       "\t 2394764                            & 1/1/2015 0:02                      & Constitution Ave \\& 2nd St NW/DOL & 1/1/2015 0:42                      & 15th \\& K St NW                   & W00612                             & Casual                             & q1                                 & 31271                              & 31254                              & 2015-01-01 00:02:00                & 2015-01-01 00:42:00               \\\\\n",
       "\t 2389161                            & 1/1/2015 0:02                      & Constitution Ave \\& 2nd St NW/DOL & 1/1/2015 0:42                      & 15th \\& K St NW                   & W01140                             & Casual                             & q1                                 & 31271                              & 31254                              & 2015-01-01 00:02:00                & 2015-01-01 00:42:00               \\\\\n",
       "\t  468047                            & 1/1/2015 0:04                      & 20th \\& E St NW                   & 1/1/2015 0:12                      & 20th \\& O St NW / Dupont South    & W01226                             & Registered                         & q1                                 & 31204                              & 31234                              & 2015-01-01 00:04:00                & 2015-01-01 00:12:00               \\\\\n",
       "\t  348068                            & 1/1/2015 0:07                      & Park Rd \\& Holmead Pl NW          & 1/1/2015 0:13                      & 15th \\& Euclid St  NW             & W20216                             & Registered                         & q1                                 & 31602                              & 31117                              & 2015-01-01 00:07:00                & 2015-01-01 00:13:00               \\\\\n",
       "\t  980844                            & 1/1/2015 0:09                      & Jefferson Dr \\& 14th St SW        & 1/1/2015 0:25                      & Thomas Circle                      & W21005                             & Casual                             & q1                                 & 31247                              & 31241                              & 2015-01-01 00:09:00                & 2015-01-01 00:25:00               \\\\\n",
       "\t  932411                            & 1/1/2015 0:10                      & Jefferson Dr \\& 14th St SW        & 1/1/2015 0:26                      & Thomas Circle                      & W01126                             & Casual                             & q1                                 & 31247                              & 31241                              & 2015-01-01 00:10:00                & 2015-01-01 00:26:00               \\\\\n",
       "\\end{tabular}\n"
      ],
      "text/markdown": [
       "\n",
       "Duration..ms. | Start.date | Start.station | End.date | End.station | Bike.number | Member.type | quarter | Start.station.number | End.station.number | startDT | endDT | \n",
       "|---|---|---|---|---|---|\n",
       "| 2394764                          | 1/1/2015 0:02                    | Constitution Ave & 2nd St NW/DOL | 1/1/2015 0:42                    | 15th & K St NW                   | W00612                           | Casual                           | q1                               | 31271                            | 31254                            | 2015-01-01 00:02:00              | 2015-01-01 00:42:00              | \n",
       "| 2389161                          | 1/1/2015 0:02                    | Constitution Ave & 2nd St NW/DOL | 1/1/2015 0:42                    | 15th & K St NW                   | W01140                           | Casual                           | q1                               | 31271                            | 31254                            | 2015-01-01 00:02:00              | 2015-01-01 00:42:00              | \n",
       "|  468047                          | 1/1/2015 0:04                    | 20th & E St NW                   | 1/1/2015 0:12                    | 20th & O St NW / Dupont South    | W01226                           | Registered                       | q1                               | 31204                            | 31234                            | 2015-01-01 00:04:00              | 2015-01-01 00:12:00              | \n",
       "|  348068                          | 1/1/2015 0:07                    | Park Rd & Holmead Pl NW          | 1/1/2015 0:13                    | 15th & Euclid St  NW             | W20216                           | Registered                       | q1                               | 31602                            | 31117                            | 2015-01-01 00:07:00              | 2015-01-01 00:13:00              | \n",
       "|  980844                          | 1/1/2015 0:09                    | Jefferson Dr & 14th St SW        | 1/1/2015 0:25                    | Thomas Circle                    | W21005                           | Casual                           | q1                               | 31247                            | 31241                            | 2015-01-01 00:09:00              | 2015-01-01 00:25:00              | \n",
       "|  932411                          | 1/1/2015 0:10                    | Jefferson Dr & 14th St SW        | 1/1/2015 0:26                    | Thomas Circle                    | W01126                           | Casual                           | q1                               | 31247                            | 31241                            | 2015-01-01 00:10:00              | 2015-01-01 00:26:00              | \n",
       "\n",
       "\n"
      ],
      "text/plain": [
       "  Duration..ms. Start.date    Start.station                    End.date     \n",
       "1 2394764       1/1/2015 0:02 Constitution Ave & 2nd St NW/DOL 1/1/2015 0:42\n",
       "2 2389161       1/1/2015 0:02 Constitution Ave & 2nd St NW/DOL 1/1/2015 0:42\n",
       "3  468047       1/1/2015 0:04 20th & E St NW                   1/1/2015 0:12\n",
       "4  348068       1/1/2015 0:07 Park Rd & Holmead Pl NW          1/1/2015 0:13\n",
       "5  980844       1/1/2015 0:09 Jefferson Dr & 14th St SW        1/1/2015 0:25\n",
       "6  932411       1/1/2015 0:10 Jefferson Dr & 14th St SW        1/1/2015 0:26\n",
       "  End.station                   Bike.number Member.type quarter\n",
       "1 15th & K St NW                W00612      Casual      q1     \n",
       "2 15th & K St NW                W01140      Casual      q1     \n",
       "3 20th & O St NW / Dupont South W01226      Registered  q1     \n",
       "4 15th & Euclid St  NW          W20216      Registered  q1     \n",
       "5 Thomas Circle                 W21005      Casual      q1     \n",
       "6 Thomas Circle                 W01126      Casual      q1     \n",
       "  Start.station.number End.station.number startDT            \n",
       "1 31271                31254              2015-01-01 00:02:00\n",
       "2 31271                31254              2015-01-01 00:02:00\n",
       "3 31204                31234              2015-01-01 00:04:00\n",
       "4 31602                31117              2015-01-01 00:07:00\n",
       "5 31247                31241              2015-01-01 00:09:00\n",
       "6 31247                31241              2015-01-01 00:10:00\n",
       "  endDT              \n",
       "1 2015-01-01 00:42:00\n",
       "2 2015-01-01 00:42:00\n",
       "3 2015-01-01 00:12:00\n",
       "4 2015-01-01 00:13:00\n",
       "5 2015-01-01 00:25:00\n",
       "6 2015-01-01 00:26:00"
      ]
     },
     "metadata": {},
     "output_type": "display_data"
    }
   ],
   "source": [
    "trips15 <- trips15 %>%\n",
    "  mutate(startDT=as.POSIXct(strptime(trips15$Start.date, \"%m/%d/%Y %H:%M\")),\n",
    "         endDT=as.POSIXct(strptime(trips15$End.date, \"%m/%d/%Y %H:%M\")))\n",
    "\n",
    "rm(q1, q2, q3, q4)\n",
    "\n",
    "head(trips15)"
   ]
  },
  {
   "cell_type": "code",
   "execution_count": 24,
   "metadata": {},
   "outputs": [
    {
     "data": {},
     "metadata": {},
     "output_type": "display_data"
    },
    {
     "data": {
      "image/png": "[encoded data removed]",
      "text/plain": [
       "plot without title"
      ]
     },
     "metadata": {},
     "output_type": "display_data"
    }
   ],
   "source": [
    "t_start <- trips16 %>% \n",
    "  mutate(wday=weekdays(startDT), hour=strftime(startDT, \"%H\")) %>% \n",
    "  group_by(hour, quarter) %>% mutate(count=n()) %>% select(quarter, hour, count) %>% unique()\n",
    "#t_start$wday <- factor(t_start$wday, levels= c(\"Sunday\", \"Monday\", \"Tuesday\", \"Wednesday\", \"Thursday\", \"Friday\", \"Saturday\"))\n",
    "#head(t_start)\n",
    "#t_start <- t_start[order(t_start$wday), ]\n",
    "ggplot(t_start, aes(x=hour,y=count,group=quarter,fill=quarter)) + geom_area()"
   ]
  },
  {
   "cell_type": "code",
   "execution_count": 25,
   "metadata": {},
   "outputs": [
    {
     "data": {},
     "metadata": {},
     "output_type": "display_data"
    },
    {
     "data": {
      "image/png": "[encoded data removed]",
      "text/plain": [
       "plot without title"
      ]
     },
     "metadata": {},
     "output_type": "display_data"
    }
   ],
   "source": [
    "t_start <- trips15 %>% \n",
    "  mutate(wday=weekdays(startDT), hour=strftime(startDT, \"%H\")) %>% \n",
    "  group_by(hour, quarter) %>% mutate(count=n()) %>% select(quarter, hour, count) %>% unique()\n",
    "#t_start$wday <- factor(t_start$wday, levels= c(\"Sunday\", \"Monday\", \"Tuesday\", \"Wednesday\", \"Thursday\", \"Friday\", \"Saturday\"))\n",
    "#head(t_start)\n",
    "#t_start <- t_start[order(t_start$wday), ]\n",
    "ggplot(t_start, aes(x=hour,y=count,group=quarter,fill=quarter)) + geom_area()"
   ]
  },
  {
   "cell_type": "code",
   "execution_count": 26,
   "metadata": {
    "collapsed": true
   },
   "outputs": [],
   "source": [
    "t15 <- trips15 %>% mutate(wday=weekdays(startDT), hour=strftime(startDT, \"%H\")) %>% \n",
    "  group_by(Start.station.number,hour,wday, quarter) %>% mutate(count=n()) %>% \n",
    "select(Start.station.number,wday, quarter, hour, count) %>% unique()"
   ]
  },
  {
   "cell_type": "code",
   "execution_count": 27,
   "metadata": {},
   "outputs": [
    {
     "data": {
      "text/html": [
       "<table>\n",
       "<thead><tr><th scope=col>Start.station.number</th><th scope=col>wday</th><th scope=col>quarter</th><th scope=col>hour</th><th scope=col>count</th></tr></thead>\n",
       "<tbody>\n",
       "\t<tr><td>31271   </td><td>Thursday</td><td>q1      </td><td>00      </td><td>2       </td></tr>\n",
       "\t<tr><td>31204   </td><td>Thursday</td><td>q1      </td><td>00      </td><td>2       </td></tr>\n",
       "\t<tr><td>31602   </td><td>Thursday</td><td>q1      </td><td>00      </td><td>6       </td></tr>\n",
       "\t<tr><td>31247   </td><td>Thursday</td><td>q1      </td><td>00      </td><td>5       </td></tr>\n",
       "\t<tr><td>31222   </td><td>Thursday</td><td>q1      </td><td>00      </td><td>5       </td></tr>\n",
       "\t<tr><td>31017   </td><td>Thursday</td><td>q1      </td><td>00      </td><td>4       </td></tr>\n",
       "</tbody>\n",
       "</table>\n"
      ],
      "text/latex": [
       "\\begin{tabular}{r|lllll}\n",
       " Start.station.number & wday & quarter & hour & count\\\\\n",
       "\\hline\n",
       "\t 31271    & Thursday & q1       & 00       & 2       \\\\\n",
       "\t 31204    & Thursday & q1       & 00       & 2       \\\\\n",
       "\t 31602    & Thursday & q1       & 00       & 6       \\\\\n",
       "\t 31247    & Thursday & q1       & 00       & 5       \\\\\n",
       "\t 31222    & Thursday & q1       & 00       & 5       \\\\\n",
       "\t 31017    & Thursday & q1       & 00       & 4       \\\\\n",
       "\\end{tabular}\n"
      ],
      "text/markdown": [
       "\n",
       "Start.station.number | wday | quarter | hour | count | \n",
       "|---|---|---|---|---|---|\n",
       "| 31271    | Thursday | q1       | 00       | 2        | \n",
       "| 31204    | Thursday | q1       | 00       | 2        | \n",
       "| 31602    | Thursday | q1       | 00       | 6        | \n",
       "| 31247    | Thursday | q1       | 00       | 5        | \n",
       "| 31222    | Thursday | q1       | 00       | 5        | \n",
       "| 31017    | Thursday | q1       | 00       | 4        | \n",
       "\n",
       "\n"
      ],
      "text/plain": [
       "  Start.station.number wday     quarter hour count\n",
       "1 31271                Thursday q1      00   2    \n",
       "2 31204                Thursday q1      00   2    \n",
       "3 31602                Thursday q1      00   6    \n",
       "4 31247                Thursday q1      00   5    \n",
       "5 31222                Thursday q1      00   5    \n",
       "6 31017                Thursday q1      00   4    "
      ]
     },
     "metadata": {},
     "output_type": "display_data"
    }
   ],
   "source": [
    "head(t15)"
   ]
  },
  {
   "cell_type": "code",
   "execution_count": 28,
   "metadata": {
    "collapsed": true
   },
   "outputs": [],
   "source": [
    "t16 <- trips16 %>% mutate(wday=weekdays(startDT), hour=strftime(startDT, \"%H\")) %>% \n",
    "  group_by(Start.station.number,hour,wday, quarter) %>% mutate(count=n()) %>% \n",
    "select(Start.station.number,wday, quarter, hour, count) %>% unique()"
   ]
  },
  {
   "cell_type": "code",
   "execution_count": 29,
   "metadata": {},
   "outputs": [
    {
     "data": {
      "text/html": [
       "<table>\n",
       "<thead><tr><th scope=col>Start.station.number</th><th scope=col>wday</th><th scope=col>quarter</th><th scope=col>hour</th><th scope=col>count</th></tr></thead>\n",
       "<tbody>\n",
       "\t<tr><td>31280   </td><td>Thursday</td><td>q1      </td><td>23      </td><td> 7      </td></tr>\n",
       "\t<tr><td>31275   </td><td>Thursday</td><td>q1      </td><td>23      </td><td>14      </td></tr>\n",
       "\t<tr><td>31101   </td><td>Thursday</td><td>q1      </td><td>23      </td><td>25      </td></tr>\n",
       "\t<tr><td>31226   </td><td>Thursday</td><td>q1      </td><td>23      </td><td> 2      </td></tr>\n",
       "\t<tr><td>31011   </td><td>Thursday</td><td>q1      </td><td>23      </td><td> 2      </td></tr>\n",
       "\t<tr><td>31266   </td><td>Thursday</td><td>q1      </td><td>23      </td><td> 7      </td></tr>\n",
       "</tbody>\n",
       "</table>\n"
      ],
      "text/latex": [
       "\\begin{tabular}{r|lllll}\n",
       " Start.station.number & wday & quarter & hour & count\\\\\n",
       "\\hline\n",
       "\t 31280    & Thursday & q1       & 23       &  7      \\\\\n",
       "\t 31275    & Thursday & q1       & 23       & 14      \\\\\n",
       "\t 31101    & Thursday & q1       & 23       & 25      \\\\\n",
       "\t 31226    & Thursday & q1       & 23       &  2      \\\\\n",
       "\t 31011    & Thursday & q1       & 23       &  2      \\\\\n",
       "\t 31266    & Thursday & q1       & 23       &  7      \\\\\n",
       "\\end{tabular}\n"
      ],
      "text/markdown": [
       "\n",
       "Start.station.number | wday | quarter | hour | count | \n",
       "|---|---|---|---|---|---|\n",
       "| 31280    | Thursday | q1       | 23       |  7       | \n",
       "| 31275    | Thursday | q1       | 23       | 14       | \n",
       "| 31101    | Thursday | q1       | 23       | 25       | \n",
       "| 31226    | Thursday | q1       | 23       |  2       | \n",
       "| 31011    | Thursday | q1       | 23       |  2       | \n",
       "| 31266    | Thursday | q1       | 23       |  7       | \n",
       "\n",
       "\n"
      ],
      "text/plain": [
       "  Start.station.number wday     quarter hour count\n",
       "1 31280                Thursday q1      23    7   \n",
       "2 31275                Thursday q1      23   14   \n",
       "3 31101                Thursday q1      23   25   \n",
       "4 31226                Thursday q1      23    2   \n",
       "5 31011                Thursday q1      23    2   \n",
       "6 31266                Thursday q1      23    7   "
      ]
     },
     "metadata": {},
     "output_type": "display_data"
    }
   ],
   "source": [
    "head(t16)"
   ]
  },
  {
   "cell_type": "code",
   "execution_count": 30,
   "metadata": {},
   "outputs": [
    {
     "data": {
      "text/html": [
       "<dl>\n",
       "\t<dt>$Start.station.number</dt>\n",
       "\t\t<dd>'integer'</dd>\n",
       "\t<dt>$wday</dt>\n",
       "\t\t<dd>'character'</dd>\n",
       "\t<dt>$quarter</dt>\n",
       "\t\t<dd>'factor'</dd>\n",
       "\t<dt>$hour</dt>\n",
       "\t\t<dd>'character'</dd>\n",
       "\t<dt>$count</dt>\n",
       "\t\t<dd>'integer'</dd>\n",
       "</dl>\n"
      ],
      "text/latex": [
       "\\begin{description}\n",
       "\\item[\\$Start.station.number] 'integer'\n",
       "\\item[\\$wday] 'character'\n",
       "\\item[\\$quarter] 'factor'\n",
       "\\item[\\$hour] 'character'\n",
       "\\item[\\$count] 'integer'\n",
       "\\end{description}\n"
      ],
      "text/markdown": [
       "$Start.station.number\n",
       ":   'integer'\n",
       "$wday\n",
       ":   'character'\n",
       "$quarter\n",
       ":   'factor'\n",
       "$hour\n",
       ":   'character'\n",
       "$count\n",
       ":   'integer'\n",
       "\n",
       "\n"
      ],
      "text/plain": [
       "$Start.station.number\n",
       "[1] \"integer\"\n",
       "\n",
       "$wday\n",
       "[1] \"character\"\n",
       "\n",
       "$quarter\n",
       "[1] \"factor\"\n",
       "\n",
       "$hour\n",
       "[1] \"character\"\n",
       "\n",
       "$count\n",
       "[1] \"integer\"\n"
      ]
     },
     "metadata": {},
     "output_type": "display_data"
    }
   ],
   "source": [
    "lapply(t16, class)"
   ]
  },
  {
   "cell_type": "code",
   "execution_count": 31,
   "metadata": {
    "collapsed": true
   },
   "outputs": [],
   "source": [
    "t15=transform(t15, wday=as.factor(wday), quarter=as.factor(quarter), hour=as.integer(hour))\n",
    "t16=transform(t16, wday=as.factor(wday), quarter=as.factor(quarter), hour=as.integer(hour))"
   ]
  },
  {
   "cell_type": "code",
   "execution_count": 32,
   "metadata": {
    "collapsed": true
   },
   "outputs": [],
   "source": [
    "regfit=glm(count~wday+hour+quarter, data=t15)"
   ]
  },
  {
   "cell_type": "code",
   "execution_count": 38,
   "metadata": {},
   "outputs": [],
   "source": [
    "t16$predicted=predict(regfit, t16)"
   ]
  },
  {
   "cell_type": "code",
   "execution_count": 39,
   "metadata": {},
   "outputs": [
    {
     "data": {
      "text/html": [
       "822.05766244861"
      ],
      "text/latex": [
       "822.05766244861"
      ],
      "text/markdown": [
       "822.05766244861"
      ],
      "text/plain": [
       "[1] 822.0577"
      ]
     },
     "metadata": {},
     "output_type": "display_data"
    }
   ],
   "source": [
    "mean((t16$count-t16$predicted)^2)"
   ]
  },
  {
   "cell_type": "code",
   "execution_count": 40,
   "metadata": {},
   "outputs": [
    {
     "data": {
      "text/html": [
       "<table>\n",
       "<thead><tr><th scope=col>Start.station.number</th><th scope=col>wday</th><th scope=col>quarter</th><th scope=col>hour</th><th scope=col>count</th><th scope=col>predicted</th></tr></thead>\n",
       "<tbody>\n",
       "\t<tr><td>31280   </td><td>Thursday</td><td>q1      </td><td>23      </td><td> 7      </td><td>18.31036</td></tr>\n",
       "\t<tr><td>31275   </td><td>Thursday</td><td>q1      </td><td>23      </td><td>14      </td><td>18.31036</td></tr>\n",
       "\t<tr><td>31101   </td><td>Thursday</td><td>q1      </td><td>23      </td><td>25      </td><td>18.31036</td></tr>\n",
       "\t<tr><td>31226   </td><td>Thursday</td><td>q1      </td><td>23      </td><td> 2      </td><td>18.31036</td></tr>\n",
       "\t<tr><td>31011   </td><td>Thursday</td><td>q1      </td><td>23      </td><td> 2      </td><td>18.31036</td></tr>\n",
       "\t<tr><td>31266   </td><td>Thursday</td><td>q1      </td><td>23      </td><td> 7      </td><td>18.31036</td></tr>\n",
       "</tbody>\n",
       "</table>\n"
      ],
      "text/latex": [
       "\\begin{tabular}{r|llllll}\n",
       " Start.station.number & wday & quarter & hour & count & predicted\\\\\n",
       "\\hline\n",
       "\t 31280    & Thursday & q1       & 23       &  7       & 18.31036\\\\\n",
       "\t 31275    & Thursday & q1       & 23       & 14       & 18.31036\\\\\n",
       "\t 31101    & Thursday & q1       & 23       & 25       & 18.31036\\\\\n",
       "\t 31226    & Thursday & q1       & 23       &  2       & 18.31036\\\\\n",
       "\t 31011    & Thursday & q1       & 23       &  2       & 18.31036\\\\\n",
       "\t 31266    & Thursday & q1       & 23       &  7       & 18.31036\\\\\n",
       "\\end{tabular}\n"
      ],
      "text/markdown": [
       "\n",
       "Start.station.number | wday | quarter | hour | count | predicted | \n",
       "|---|---|---|---|---|---|\n",
       "| 31280    | Thursday | q1       | 23       |  7       | 18.31036 | \n",
       "| 31275    | Thursday | q1       | 23       | 14       | 18.31036 | \n",
       "| 31101    | Thursday | q1       | 23       | 25       | 18.31036 | \n",
       "| 31226    | Thursday | q1       | 23       |  2       | 18.31036 | \n",
       "| 31011    | Thursday | q1       | 23       |  2       | 18.31036 | \n",
       "| 31266    | Thursday | q1       | 23       |  7       | 18.31036 | \n",
       "\n",
       "\n"
      ],
      "text/plain": [
       "  Start.station.number wday     quarter hour count predicted\n",
       "1 31280                Thursday q1      23    7    18.31036 \n",
       "2 31275                Thursday q1      23   14    18.31036 \n",
       "3 31101                Thursday q1      23   25    18.31036 \n",
       "4 31226                Thursday q1      23    2    18.31036 \n",
       "5 31011                Thursday q1      23    2    18.31036 \n",
       "6 31266                Thursday q1      23    7    18.31036 "
      ]
     },
     "metadata": {},
     "output_type": "display_data"
    }
   ],
   "source": [
    "head(t16)"
   ]
  },
  {
   "cell_type": "code",
   "execution_count": 41,
   "metadata": {},
   "outputs": [
    {
     "data": {
      "text/plain": [
       "\n",
       "Call:\n",
       "glm(formula = count ~ wday + hour + quarter, data = t15)\n",
       "\n",
       "Deviance Residuals: \n",
       "   Min      1Q  Median      3Q     Max  \n",
       "-29.73  -16.30   -9.14    4.13  581.80  \n",
       "\n",
       "Coefficients:\n",
       "              Estimate Std. Error t value Pr(>|t|)    \n",
       "(Intercept)     6.0299     0.3080  19.577  < 2e-16 ***\n",
       "wdayMonday     -0.6773     0.2927  -2.314   0.0207 *  \n",
       "wdaySaturday   -1.3974     0.2920  -4.785 1.71e-06 ***\n",
       "wdaySunday     -1.3097     0.2927  -4.475 7.65e-06 ***\n",
       "wdayThursday   -0.4028     0.2915  -1.382   0.1670    \n",
       "wdayTuesday    -0.2581     0.2929  -0.881   0.3782    \n",
       "wdayWednesday   0.4477     0.2921   1.533   0.1253    \n",
       "hour            0.5514     0.0129  42.746  < 2e-16 ***\n",
       "quarterq2      11.1575     0.2292  48.689  < 2e-16 ***\n",
       "quarterq3      11.5672     0.2272  50.921  < 2e-16 ***\n",
       "quarterq4       4.8390     0.2313  20.922  < 2e-16 ***\n",
       "---\n",
       "Signif. codes:  0 '***' 0.001 '**' 0.01 '*' 0.05 '.' 0.1 ' ' 1\n",
       "\n",
       "(Dispersion parameter for gaussian family taken to be 979.037)\n",
       "\n",
       "    Null deviance: 161332038  on 159490  degrees of freedom\n",
       "Residual deviance: 156136817  on 159480  degrees of freedom\n",
       "AIC: 1550975\n",
       "\n",
       "Number of Fisher Scoring iterations: 2\n"
      ]
     },
     "metadata": {},
     "output_type": "display_data"
    }
   ],
   "source": [
    "summary(regfit)"
   ]
  },
  {
   "cell_type": "code",
   "execution_count": 43,
   "metadata": {
    "collapsed": true
   },
   "outputs": [],
   "source": [
    "t15$predicted=predict(regfit, t15)"
   ]
  },
  {
   "cell_type": "code",
   "execution_count": 47,
   "metadata": {},
   "outputs": [
    {
     "data": {
      "image/png": "[encoded data removed]",
      "text/plain": [
       "plot without title"
      ]
     },
     "metadata": {},
     "output_type": "display_data"
    }
   ],
   "source": [
    "plot(t15$hour, t15$count)\n",
    "lines(t15$count)"
   ]
  },
  {
   "cell_type": "code",
   "execution_count": null,
   "metadata": {
    "collapsed": true
   },
   "outputs": [],
   "source": []
  }
 ],
 "metadata": {
  "kernelspec": {
   "display_name": "R",
   "language": "R",
   "name": "ir"
  },
  "language_info": {
   "codemirror_mode": "r",
   "file_extension": ".r",
   "mimetype": "text/x-r-source",
   "name": "R",
   "pygments_lexer": "r",
   "version": "3.3.2"
  }
 },
 "nbformat": 4,
 "nbformat_minor": 2
}
