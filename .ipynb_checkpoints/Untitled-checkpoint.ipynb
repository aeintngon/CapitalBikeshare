{
 "cells": [
  {
   "cell_type": "code",
   "execution_count": 1,
   "metadata": {
    "collapsed": false
   },
   "outputs": [
    {
     "name": "stderr",
     "output_type": "stream",
     "text": [
      "Warning message:\n",
      "\"package 'dplyr' was built under R version 3.3.3\"\n",
      "Attaching package: 'dplyr'\n",
      "\n",
      "The following objects are masked from 'package:stats':\n",
      "\n",
      "    filter, lag\n",
      "\n",
      "The following objects are masked from 'package:base':\n",
      "\n",
      "    intersect, setdiff, setequal, union\n",
      "\n",
      "Warning message:\n",
      "\"package 'ggplot2' was built under R version 3.3.3\"Warning message:\n",
      "\"package 'ggmap' was built under R version 3.3.3\""
     ]
    }
   ],
   "source": [
    "library(dplyr)\n",
    "library(ggplot2)\n",
    "library(ggmap)"
   ]
  },
  {
   "cell_type": "code",
   "execution_count": 2,
   "metadata": {
    "collapsed": true
   },
   "outputs": [],
   "source": [
    "setwd(\"C:/Users/Aeint Thet Ngon/Documents/Portfolio/Capital Bikeshare/2016\")"
   ]
  },
  {
   "cell_type": "code",
   "execution_count": 3,
   "metadata": {
    "collapsed": true
   },
   "outputs": [],
   "source": [
    "files=list.files(pattern=\"*.csv\")\n",
    "names=c(\"q1\", \"q2\", \"q3a\",\"q3b\", \"q4\")\n",
    "\n",
    "for (i in 1:length(files)){\n",
    "  assign(names[i], read.csv(files[i]))\n",
    "}\n",
    "\n",
    "colnames(q2)[9] <- \"Member.Type\""
   ]
  },
  {
   "cell_type": "code",
   "execution_count": 4,
   "metadata": {
    "collapsed": false
   },
   "outputs": [
    {
     "data": {
      "text/html": [
       "<table>\n",
       "<thead><tr><th scope=col>Duration..ms.</th><th scope=col>Start.date</th><th scope=col>End.date</th><th scope=col>Start.station.number</th><th scope=col>Start.station</th><th scope=col>End.station.number</th><th scope=col>End.station</th><th scope=col>Bike.number</th><th scope=col>Member.Type</th><th scope=col>startDT</th><th scope=col>endDT</th></tr></thead>\n",
       "<tbody>\n",
       "\t<tr><td>301295                                                                    </td><td>3/31/2016 23:59                                                           </td><td><span style=white-space:pre-wrap>4/1/2016 0:04  </span>                   </td><td>31280                                                                     </td><td><span style=white-space:pre-wrap>11th &amp; S St NW                </span></td><td>31506                                                                     </td><td>1st &amp; Rhode Island Ave NW                                             </td><td>W00022                                                                    </td><td>Registered                                                                </td><td>2016-03-31 23:59:00                                                       </td><td>2016-04-01 00:04:00                                                       </td></tr>\n",
       "\t<tr><td>557887                                                 </td><td>3/31/2016 23:59                                        </td><td><span style=white-space:pre-wrap>4/1/2016 0:08  </span></td><td>31275                                                  </td><td>New Hampshire Ave &amp; 24th St NW                     </td><td>31114                                                  </td><td>18th St &amp; Wyoming Ave NW                           </td><td>W01294                                                 </td><td>Registered                                             </td><td>2016-03-31 23:59:00                                    </td><td>2016-04-01 00:08:00                                    </td></tr>\n",
       "\t<tr><td>555944                                                                    </td><td>3/31/2016 23:59                                                           </td><td><span style=white-space:pre-wrap>4/1/2016 0:08  </span>                   </td><td>31101                                                                     </td><td><span style=white-space:pre-wrap>14th &amp; V St NW                </span></td><td>31221                                                                     </td><td><span style=white-space:pre-wrap>18th &amp; M St NW           </span>     </td><td>W01416                                                                    </td><td>Registered                                                                </td><td>2016-03-31 23:59:00                                                       </td><td>2016-04-01 00:08:00                                                       </td></tr>\n",
       "\t<tr><td>766916                                                                    </td><td>3/31/2016 23:57                                                           </td><td><span style=white-space:pre-wrap>4/1/2016 0:09  </span>                   </td><td>31226                                                                     </td><td><span style=white-space:pre-wrap>34th St &amp; Wisconsin Ave NW    </span></td><td>31214                                                                     </td><td><span style=white-space:pre-wrap>17th &amp; Corcoran St NW    </span>     </td><td>W01090                                                                    </td><td>Registered                                                                </td><td>2016-03-31 23:57:00                                                       </td><td>2016-04-01 00:09:00                                                       </td></tr>\n",
       "\t<tr><td>139656                                                                    </td><td>3/31/2016 23:57                                                           </td><td>3/31/2016 23:59                                                           </td><td>31011                                                                     </td><td><span style=white-space:pre-wrap>23rd &amp; Crystal Dr             </span></td><td>31009                                                                     </td><td><span style=white-space:pre-wrap>27th &amp; Crystal Dr        </span>     </td><td>W21934                                                                    </td><td>Registered                                                                </td><td>2016-03-31 23:57:00                                                       </td><td>2016-03-31 23:59:00                                                       </td></tr>\n",
       "\t<tr><td>967713                                                                    </td><td>3/31/2016 23:57                                                           </td><td><span style=white-space:pre-wrap>4/1/2016 0:13  </span>                   </td><td>31266                                                                     </td><td><span style=white-space:pre-wrap>11th &amp; M St NW                </span></td><td>31600                                                                     </td><td><span style=white-space:pre-wrap>5th &amp; K St NW            </span>     </td><td>W20562                                                                    </td><td><span style=white-space:pre-wrap>Casual    </span>                        </td><td>2016-03-31 23:57:00                                                       </td><td>2016-04-01 00:13:00                                                       </td></tr>\n",
       "</tbody>\n",
       "</table>\n"
      ],
      "text/latex": [
       "\\begin{tabular}{r|lllllllllll}\n",
       " Duration..ms. & Start.date & End.date & Start.station.number & Start.station & End.station.number & End.station & Bike.number & Member.Type & startDT & endDT\\\\\n",
       "\\hline\n",
       "\t 301295                           & 3/31/2016 23:59                  & 4/1/2016 0:04                    & 31280                            & 11th \\& S St NW                 & 31506                            & 1st \\& Rhode Island Ave NW      & W00022                           & Registered                       & 2016-03-31 23:59:00              & 2016-04-01 00:04:00             \\\\\n",
       "\t 557887                           & 3/31/2016 23:59                  & 4/1/2016 0:08                    & 31275                            & New Hampshire Ave \\& 24th St NW & 31114                            & 18th St \\& Wyoming Ave NW       & W01294                           & Registered                       & 2016-03-31 23:59:00              & 2016-04-01 00:08:00             \\\\\n",
       "\t 555944                           & 3/31/2016 23:59                  & 4/1/2016 0:08                    & 31101                            & 14th \\& V St NW                 & 31221                            & 18th \\& M St NW                 & W01416                           & Registered                       & 2016-03-31 23:59:00              & 2016-04-01 00:08:00             \\\\\n",
       "\t 766916                           & 3/31/2016 23:57                  & 4/1/2016 0:09                    & 31226                            & 34th St \\& Wisconsin Ave NW     & 31214                            & 17th \\& Corcoran St NW          & W01090                           & Registered                       & 2016-03-31 23:57:00              & 2016-04-01 00:09:00             \\\\\n",
       "\t 139656                           & 3/31/2016 23:57                  & 3/31/2016 23:59                  & 31011                            & 23rd \\& Crystal Dr              & 31009                            & 27th \\& Crystal Dr              & W21934                           & Registered                       & 2016-03-31 23:57:00              & 2016-03-31 23:59:00             \\\\\n",
       "\t 967713                           & 3/31/2016 23:57                  & 4/1/2016 0:13                    & 31266                            & 11th \\& M St NW                 & 31600                            & 5th \\& K St NW                  & W20562                           & Casual                           & 2016-03-31 23:57:00              & 2016-04-01 00:13:00             \\\\\n",
       "\\end{tabular}\n"
      ],
      "text/markdown": [
       "\n",
       "Duration..ms. | Start.date | End.date | Start.station.number | Start.station | End.station.number | End.station | Bike.number | Member.Type | startDT | endDT | \n",
       "|---|---|---|---|---|---|\n",
       "| 301295                         | 3/31/2016 23:59                | 4/1/2016 0:04                  | 31280                          | 11th & S St NW                 | 31506                          | 1st & Rhode Island Ave NW      | W00022                         | Registered                     | 2016-03-31 23:59:00            | 2016-04-01 00:04:00            | \n",
       "| 557887                         | 3/31/2016 23:59                | 4/1/2016 0:08                  | 31275                          | New Hampshire Ave & 24th St NW | 31114                          | 18th St & Wyoming Ave NW       | W01294                         | Registered                     | 2016-03-31 23:59:00            | 2016-04-01 00:08:00            | \n",
       "| 555944                         | 3/31/2016 23:59                | 4/1/2016 0:08                  | 31101                          | 14th & V St NW                 | 31221                          | 18th & M St NW                 | W01416                         | Registered                     | 2016-03-31 23:59:00            | 2016-04-01 00:08:00            | \n",
       "| 766916                         | 3/31/2016 23:57                | 4/1/2016 0:09                  | 31226                          | 34th St & Wisconsin Ave NW     | 31214                          | 17th & Corcoran St NW          | W01090                         | Registered                     | 2016-03-31 23:57:00            | 2016-04-01 00:09:00            | \n",
       "| 139656                         | 3/31/2016 23:57                | 3/31/2016 23:59                | 31011                          | 23rd & Crystal Dr              | 31009                          | 27th & Crystal Dr              | W21934                         | Registered                     | 2016-03-31 23:57:00            | 2016-03-31 23:59:00            | \n",
       "| 967713                         | 3/31/2016 23:57                | 4/1/2016 0:13                  | 31266                          | 11th & M St NW                 | 31600                          | 5th & K St NW                  | W20562                         | Casual                         | 2016-03-31 23:57:00            | 2016-04-01 00:13:00            | \n",
       "\n",
       "\n"
      ],
      "text/plain": [
       "  Duration..ms. Start.date      End.date        Start.station.number\n",
       "1 301295        3/31/2016 23:59 4/1/2016 0:04   31280               \n",
       "2 557887        3/31/2016 23:59 4/1/2016 0:08   31275               \n",
       "3 555944        3/31/2016 23:59 4/1/2016 0:08   31101               \n",
       "4 766916        3/31/2016 23:57 4/1/2016 0:09   31226               \n",
       "5 139656        3/31/2016 23:57 3/31/2016 23:59 31011               \n",
       "6 967713        3/31/2016 23:57 4/1/2016 0:13   31266               \n",
       "  Start.station                  End.station.number End.station              \n",
       "1 11th & S St NW                 31506              1st & Rhode Island Ave NW\n",
       "2 New Hampshire Ave & 24th St NW 31114              18th St & Wyoming Ave NW \n",
       "3 14th & V St NW                 31221              18th & M St NW           \n",
       "4 34th St & Wisconsin Ave NW     31214              17th & Corcoran St NW    \n",
       "5 23rd & Crystal Dr              31009              27th & Crystal Dr        \n",
       "6 11th & M St NW                 31600              5th & K St NW            \n",
       "  Bike.number Member.Type startDT             endDT              \n",
       "1 W00022      Registered  2016-03-31 23:59:00 2016-04-01 00:04:00\n",
       "2 W01294      Registered  2016-03-31 23:59:00 2016-04-01 00:08:00\n",
       "3 W01416      Registered  2016-03-31 23:59:00 2016-04-01 00:08:00\n",
       "4 W01090      Registered  2016-03-31 23:57:00 2016-04-01 00:09:00\n",
       "5 W21934      Registered  2016-03-31 23:57:00 2016-03-31 23:59:00\n",
       "6 W20562      Casual      2016-03-31 23:57:00 2016-04-01 00:13:00"
      ]
     },
     "metadata": {},
     "output_type": "display_data"
    }
   ],
   "source": [
    "trips <- rbind(q1, q2, q3a, q3b, q4)\n",
    "\n",
    "trips <- trips %>%\n",
    "  mutate(startDT=as.POSIXct(strptime(trips$Start.date, \"%m/%d/%Y %H:%M\")),\n",
    "         endDT=as.POSIXct(strptime(trips$End.date, \"%m/%d/%Y %H:%M\")))\n",
    "\n",
    "rm(q1, q2, q3a, q3b, q4)\n",
    "\n",
    "head(trips)"
   ]
  },
  {
   "cell_type": "code",
   "execution_count": 5,
   "metadata": {
    "collapsed": false
   },
   "outputs": [
    {
     "name": "stdout",
     "output_type": "stream",
     "text": [
      "[1] 1\n"
     ]
    }
   ],
   "source": [
    "print(1)"
   ]
  },
  {
   "cell_type": "code",
   "execution_count": null,
   "metadata": {
    "collapsed": true
   },
   "outputs": [],
   "source": []
  }
 ],
 "metadata": {
  "kernelspec": {
   "display_name": "R",
   "language": "R",
   "name": "ir"
  },
  "language_info": {
   "codemirror_mode": "r",
   "file_extension": ".r",
   "mimetype": "text/x-r-source",
   "name": "R",
   "pygments_lexer": "r",
   "version": "3.3.2"
  }
 },
 "nbformat": 4,
 "nbformat_minor": 1
}
